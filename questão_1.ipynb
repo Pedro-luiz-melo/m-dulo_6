{
 "cells": [
  {
   "cell_type": "code",
   "execution_count": null,
   "id": "1b52a028-2ecd-4136-b0db-6858fe89b9c0",
   "metadata": {},
   "outputs": [],
   "source": [
    "import random\n",
    "\n",
    "# Gera 20 números inteiros aleatórios entre -100 e 100\n",
    "lista = [random.randint(-100, 100) for _ in range(20)]\n",
    "\n",
    "# Lista ordenada (sem alterar a original)\n",
    "lista_ordenada = sorted(lista)\n",
    "\n",
    "# Índices do maior e menor valor\n",
    "indice_maior = lista.index(max(lista))\n",
    "indice_menor = lista.index(min(lista))\n",
    "\n",
    "# Exibição dos resultados\n",
    "print(\"Lista ordenada (sem modificar a original):\")\n",
    "print(lista_ordenada)\n",
    "\n",
    "print(\"\\nLista original:\")\n",
    "print(lista)\n",
    "\n",
    "print(f\"\\nÍndice do maior valor ({max(lista)}): {indice_maior}\")\n",
    "print(f\"Índice do menor valor ({min(lista)}): {indice_menor}\")\n"
   ]
  }
 ],
 "metadata": {
  "kernelspec": {
   "display_name": "Python 3 (ipykernel)",
   "language": "python",
   "name": "python3"
  },
  "language_info": {
   "codemirror_mode": {
    "name": "ipython",
    "version": 3
   },
   "file_extension": ".py",
   "mimetype": "text/x-python",
   "name": "python",
   "nbconvert_exporter": "python",
   "pygments_lexer": "ipython3",
   "version": "3.12.2"
  }
 },
 "nbformat": 4,
 "nbformat_minor": 5
}

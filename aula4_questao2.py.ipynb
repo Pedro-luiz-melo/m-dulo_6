{
 "cells": [
  {
   "cell_type": "code",
   "execution_count": 1,
   "id": "f5a43e64-a22d-4f65-8066-639419baa2d9",
   "metadata": {},
   "outputs": [
    {
     "name": "stdin",
     "output_type": "stream",
     "text": [
      "Digite uma frase:  amo a laura\n"
     ]
    },
    {
     "name": "stdout",
     "output_type": "stream",
     "text": [
      "Vogais (ordenadas): ['a', 'a', 'a', 'a', 'o', 'u']\n",
      "Consoantes (sem espaços): ['m', 'l', 'r']\n"
     ]
    }
   ],
   "source": [
    "# Solicita a frase do usuário\n",
    "frase = input(\"Digite uma frase: \")\n",
    "\n",
    "# Define as vogais\n",
    "vogais = 'aeiouAEIOU'\n",
    "\n",
    "# Lista de vogais na frase, ordenada alfabeticamente\n",
    "lista_vogais = sorted([letra for letra in frase if letra in vogais])\n",
    "\n",
    "# Lista de consoantes, removendo espaços e vogais\n",
    "lista_consoantes = [letra for letra in frase if letra.isalpha() and letra not in vogais]\n",
    "\n",
    "# Exibe os resultados\n",
    "print(\"Vogais (ordenadas):\", lista_vogais)\n",
    "print(\"Consoantes (sem espaços):\", lista_consoantes)\n"
   ]
  }
 ],
 "metadata": {
  "kernelspec": {
   "display_name": "Python 3 (ipykernel)",
   "language": "python",
   "name": "python3"
  },
  "language_info": {
   "codemirror_mode": {
    "name": "ipython",
    "version": 3
   },
   "file_extension": ".py",
   "mimetype": "text/x-python",
   "name": "python",
   "nbconvert_exporter": "python",
   "pygments_lexer": "ipython3",
   "version": "3.12.2"
  }
 },
 "nbformat": 4,
 "nbformat_minor": 5
}

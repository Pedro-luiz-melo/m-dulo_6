{
 "cells": [
  {
   "cell_type": "code",
   "execution_count": 3,
   "id": "df7d2f3a-3868-4076-9dab-3533fa4ad7e0",
   "metadata": {},
   "outputs": [
    {
     "name": "stdout",
     "output_type": "stream",
     "text": [
      "Lista 1:\n",
      "[1, 28, 26, 31, 50, 40, 40, 49, 38, 24, 2, 23, 10, 22, 23, 17, 3, 24, 13, 46]\n",
      "\n",
      "Lista 2:\n",
      "[4, 5, 38, 42, 41, 8, 10, 44, 21, 14, 18, 37, 50, 34, 8, 28, 50, 23, 41, 34]\n",
      "\n",
      "Interseção (sem duplicatas e ordenada):\n",
      "[10, 23, 28, 38, 50]\n",
      "\n",
      "Contagem de vezes que cada elemento da interseção aparece em cada lista:\n",
      "Elemento 10: lista1 = 1x, lista2 = 1x\n",
      "Elemento 23: lista1 = 2x, lista2 = 1x\n",
      "Elemento 28: lista1 = 1x, lista2 = 1x\n",
      "Elemento 38: lista1 = 1x, lista2 = 1x\n",
      "Elemento 50: lista1 = 1x, lista2 = 2x\n"
     ]
    }
   ],
   "source": [
    "import random\n",
    "from collections import Counter\n",
    "\n",
    "# Geração das listas\n",
    "lista1 = [random.randint(0, 50) for _ in range(20)]\n",
    "lista2 = [random.randint(0, 50) for _ in range(20)]\n",
    "\n",
    "# Interseção sem duplicatas\n",
    "interseccao = sorted(set(lista1) & set(lista2))\n",
    "\n",
    "# Contagem de elementos\n",
    "contagem1 = Counter(lista1)\n",
    "contagem2 = Counter(lista2)\n",
    "\n",
    "# Impressão dos resultados\n",
    "print(\"Lista 1:\")\n",
    "print(lista1)\n",
    "print(\"\\nLista 2:\")\n",
    "print(lista2)\n",
    "\n",
    "print(\"\\nInterseção (sem duplicatas e ordenada):\")\n",
    "print(interseccao)\n",
    "\n",
    "print(\"\\nContagem de vezes que cada elemento da interseção aparece em cada lista:\")\n",
    "for elemento in interseccao:\n",
    "    print(f\"Elemento {elemento}: lista1 = {contagem1[elemento]}x, lista2 = {contagem2[elemento]}x\")\n"
   ]
  }
 ],
 "metadata": {
  "kernelspec": {
   "display_name": "Python 3 (ipykernel)",
   "language": "python",
   "name": "python3"
  },
  "language_info": {
   "codemirror_mode": {
    "name": "ipython",
    "version": 3
   },
   "file_extension": ".py",
   "mimetype": "text/x-python",
   "name": "python",
   "nbconvert_exporter": "python",
   "pygments_lexer": "ipython3",
   "version": "3.12.2"
  }
 },
 "nbformat": 4,
 "nbformat_minor": 5
}

{
 "cells": [
  {
   "cell_type": "code",
   "execution_count": 4,
   "id": "5707eb9e-5b6f-4318-98b9-32161c979030",
   "metadata": {},
   "outputs": [
    {
     "name": "stdin",
     "output_type": "stream",
     "text": [
      "Digite os elementos da primeira lista, separados por espaço:  1 2 3 5\n",
      "Digite os elementos da segunda lista, separados por espaço:  2 4 3 2\n"
     ]
    },
    {
     "name": "stdout",
     "output_type": "stream",
     "text": [
      "Lista combinada: [1, 2, 2, 4, 3, 3, 5, 2]\n"
     ]
    }
   ],
   "source": [
    "# Recebe duas listas do usuário\n",
    "lista1 = list(map(int, input(\"Digite os elementos da primeira lista, separados por espaço: \").split()))\n",
    "lista2 = list(map(int, input(\"Digite os elementos da segunda lista, separados por espaço: \").split()))\n",
    "\n",
    "# Combina as listas alternadamente\n",
    "resultado = []\n",
    "\n",
    "# Intercala os elementos das duas listas\n",
    "for i in range(min(len(lista1), len(lista2))):\n",
    "    resultado.append(lista1[i])\n",
    "    resultado.append(lista2[i])\n",
    "\n",
    "# Adiciona os elementos restantes da maior lista\n",
    "if len(lista1) > len(lista2):\n",
    "    resultado.extend(lista1[len(lista2):])\n",
    "elif len(lista2) > len(lista1):\n",
    "    resultado.extend(lista2[len(lista1):])\n",
    "\n",
    "# Exibe o resultado\n",
    "print(\"Lista combinada:\", resultado)\n"
   ]
  }
 ],
 "metadata": {
  "kernelspec": {
   "display_name": "Python 3 (ipykernel)",
   "language": "python",
   "name": "python3"
  },
  "language_info": {
   "codemirror_mode": {
    "name": "ipython",
    "version": 3
   },
   "file_extension": ".py",
   "mimetype": "text/x-python",
   "name": "python",
   "nbconvert_exporter": "python",
   "pygments_lexer": "ipython3",
   "version": "3.12.2"
  }
 },
 "nbformat": 4,
 "nbformat_minor": 5
}

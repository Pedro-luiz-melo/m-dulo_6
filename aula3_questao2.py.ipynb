{
 "cells": [
  {
   "cell_type": "code",
   "execution_count": null,
   "id": "2ce048c7-c17c-49af-b04e-9e35976f9660",
   "metadata": {},
   "outputs": [],
   "source": []
  }
 ],
 "metadata": {
  "kernelspec": {
   "display_name": "",
   "name": ""
  },
  "language_info": {
   "name": ""
  }
 },
 "nbformat": 4,
 "nbformat_minor": 5
}

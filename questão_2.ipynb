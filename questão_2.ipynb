{
 "cells": [
  {
   "cell_type": "code",
   "execution_count": 2,
   "id": "3fb76986-3102-4742-91f3-0c343e6d5d64",
   "metadata": {},
   "outputs": [
    {
     "name": "stdout",
     "output_type": "stream",
     "text": [
      "Quantidade de elementos gerada: 16\n",
      "Lista de elementos:\n",
      "[2, 9, 10, 9, 5, 10, 5, 4, 4, 4, 6, 4, 8, 7, 8, 6]\n",
      "Soma dos valores: 101\n",
      "Média dos valores: 6.31\n"
     ]
    }
   ],
   "source": [
    "import random\n",
    "\n",
    "# Gera quantidade aleatória de elementos entre 5 e 20\n",
    "num_elementos = random.randint(5, 20)\n",
    "\n",
    "# Gera uma lista com 'num_elementos' valores entre 1 e 10\n",
    "elementos = [random.randint(1, 10) for _ in range(num_elementos)]\n",
    "\n",
    "# Calcula soma e média\n",
    "soma = sum(elementos)\n",
    "media = soma / num_elementos\n",
    "\n",
    "# Exibe os resultados\n",
    "print(f\"Quantidade de elementos gerada: {num_elementos}\")\n",
    "print(\"Lista de elementos:\")\n",
    "print(elementos)\n",
    "print(f\"Soma dos valores: {soma}\")\n",
    "print(f\"Média dos valores: {media:.2f}\")\n"
   ]
  }
 ],
 "metadata": {
  "kernelspec": {
   "display_name": "Python 3 (ipykernel)",
   "language": "python",
   "name": "python3"
  },
  "language_info": {
   "codemirror_mode": {
    "name": "ipython",
    "version": 3
   },
   "file_extension": ".py",
   "mimetype": "text/x-python",
   "name": "python",
   "nbconvert_exporter": "python",
   "pygments_lexer": "ipython3",
   "version": "3.12.2"
  }
 },
 "nbformat": 4,
 "nbformat_minor": 5
}

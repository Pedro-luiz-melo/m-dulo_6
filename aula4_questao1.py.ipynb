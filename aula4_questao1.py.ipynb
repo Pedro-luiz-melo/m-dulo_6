{
 "cells": [
  {
   "cell_type": "code",
   "execution_count": 1,
   "id": "ca077f82-765e-41c7-a6c8-4fe691cb99e4",
   "metadata": {},
   "outputs": [
    {
     "name": "stdout",
     "output_type": "stream",
     "text": [
      "1. Pares de 20 a 50: [20, 22, 24, 26, 28, 30, 32, 34, 36, 38, 40, 42, 44, 46, 48, 50]\n",
      "2. Quadrados de 1 a 9: [1, 4, 9, 16, 25, 36, 49, 64, 81]\n",
      "3. Divisíveis por 7 de 1 a 100: [7, 14, 21, 28, 35, 42, 49, 56, 63, 70, 77, 84, 91, 98]\n",
      "4. Paridade de range(0,30,3): ['par', 'ímpar', 'par', 'ímpar', 'par', 'ímpar', 'par', 'ímpar', 'par', 'ímpar']\n"
     ]
    }
   ],
   "source": [
    "# Lista 1: Todos os números pares entre 20 e 50\n",
    "pares_20_50 = [x for x in range(20, 51) if x % 2 == 0]\n",
    "\n",
    "# Lista 2: Os quadrados de todos os valores da lista [1,2,3,4,5,6,7,8,9]\n",
    "quadrados = [x**2 for x in [1,2,3,4,5,6,7,8,9]]\n",
    "\n",
    "# Lista 3: Todos os números entre 1 e 100 que sejam divisíveis por 7\n",
    "divisiveis_por_7 = [x for x in range(1, 101) if x % 7 == 0]\n",
    "\n",
    "# Lista 4: Para todos os valores em range(0,30,3), escreva \"par\" ou \"ímpar\"\n",
    "paridade = ['par' if x % 2 == 0 else 'ímpar' for x in range(0, 30, 3)]\n",
    "\n",
    "# Imprimir os resultados\n",
    "print(\"1. Pares de 20 a 50:\", pares_20_50)\n",
    "print(\"2. Quadrados de 1 a 9:\", quadrados)\n",
    "print(\"3. Divisíveis por 7 de 1 a 100:\", divisiveis_por_7)\n",
    "print(\"4. Paridade de range(0,30,3):\", paridade)\n"
   ]
  }
 ],
 "metadata": {
  "kernelspec": {
   "display_name": "Python 3 (ipykernel)",
   "language": "python",
   "name": "python3"
  },
  "language_info": {
   "codemirror_mode": {
    "name": "ipython",
    "version": 3
   },
   "file_extension": ".py",
   "mimetype": "text/x-python",
   "name": "python",
   "nbconvert_exporter": "python",
   "pygments_lexer": "ipython3",
   "version": "3.12.2"
  }
 },
 "nbformat": 4,
 "nbformat_minor": 5
}

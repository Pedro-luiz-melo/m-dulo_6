{
 "cells": [
  {
   "cell_type": "code",
   "execution_count": 2,
   "id": "30d1435f-ae75-4671-b5ff-fbaf0d0f1f2c",
   "metadata": {},
   "outputs": [
    {
     "name": "stdout",
     "output_type": "stream",
     "text": [
      "[800, 740, 925, 800, 800, 1000]\n"
     ]
    }
   ],
   "source": [
    "horas_trabalhadas = [40, 37, 45, 40, 40, 48]\n",
    "ganho_por_hora = 20\n",
    "hora_extra = 25\n",
    "\n",
    "# Compreensão de lista para calcular os pagamentos\n",
    "pagamentos = [\n",
    "    ganho_por_hora * min(h, 40) + hora_extra * max(0, h - 40)\n",
    "    for h in horas_trabalhadas\n",
    "]\n",
    "\n",
    "print(pagamentos)\n"
   ]
  }
 ],
 "metadata": {
  "kernelspec": {
   "display_name": "Python 3 (ipykernel)",
   "language": "python",
   "name": "python3"
  },
  "language_info": {
   "codemirror_mode": {
    "name": "ipython",
    "version": 3
   },
   "file_extension": ".py",
   "mimetype": "text/x-python",
   "name": "python",
   "nbconvert_exporter": "python",
   "pygments_lexer": "ipython3",
   "version": "3.12.2"
  }
 },
 "nbformat": 4,
 "nbformat_minor": 5
}

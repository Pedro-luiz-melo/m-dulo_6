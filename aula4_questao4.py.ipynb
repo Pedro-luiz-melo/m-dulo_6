{
 "cells": [
  {
   "cell_type": "code",
   "execution_count": 1,
   "id": "e363113c-8761-4621-82a6-49cbe247cf78",
   "metadata": {},
   "outputs": [
    {
     "name": "stdout",
     "output_type": "stream",
     "text": [
      "['Sol']\n"
     ]
    }
   ],
   "source": [
    "alunos = [\"Maria\", \"Jose\", \"Carla\", \"Sol\"]\n",
    "notas = [35, 50, 20, 80]\n",
    "\n",
    "# Compreensão de lista para filtrar os aprovados\n",
    "aprovados = [alunos[i] for i in range(len(notas)) if notas[i] >= 60]\n",
    "\n",
    "print(aprovados)\n"
   ]
  }
 ],
 "metadata": {
  "kernelspec": {
   "display_name": "Python 3 (ipykernel)",
   "language": "python",
   "name": "python3"
  },
  "language_info": {
   "codemirror_mode": {
    "name": "ipython",
    "version": 3
   },
   "file_extension": ".py",
   "mimetype": "text/x-python",
   "name": "python",
   "nbconvert_exporter": "python",
   "pygments_lexer": "ipython3",
   "version": "3.12.2"
  }
 },
 "nbformat": 4,
 "nbformat_minor": 5
}
